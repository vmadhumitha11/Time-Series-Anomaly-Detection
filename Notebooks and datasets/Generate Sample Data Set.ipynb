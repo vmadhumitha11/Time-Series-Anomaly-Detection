{
 "cells": [
  {
   "cell_type": "code",
   "execution_count": 5,
   "id": "e14d45d3",
   "metadata": {},
   "outputs": [],
   "source": [
    "import numpy as np\n",
    "import pandas as pd\n",
    "from datetime import datetime, timedelta\n",
    "\n",
    "# Set the size of the data set\n",
    "n = 365 # number of days in the year\n",
    "m = 6 # number of metrics\n",
    "\n",
    "# Set the start and end dates for the data set\n",
    "start_date = datetime(2022, 1, 1)\n",
    "end_date = start_date + timedelta(days=n-1)\n",
    "\n",
    "# Set the headers for the data set\n",
    "headers = ['datetime', 'Sales', 'direct', 'retail sales', 'unknown sales', 'applications', 'net applications']\n",
    "\n",
    "# Create an empty data frame with the specified headers\n",
    "df = pd.DataFrame(columns=headers)\n",
    "\n",
    "# Generate the time series data\n",
    "for i in range(n):\n",
    "    # Generate a datetime object for the current date\n",
    "    date = start_date + timedelta(days=i)\n",
    "    \n",
    "    # Generate the values for the six metrics\n",
    "    sales = np.random.normal(loc=50000, scale=10000)\n",
    "    direct = np.random.normal(loc=10000, scale=2000)\n",
    "    retail_sales = np.random.normal(loc=30000, scale=5000)\n",
    "    unknown_sales = np.random.normal(loc=10000, scale=2000)\n",
    "    applications = np.random.normal(loc=500, scale=100)\n",
    "    net_applications = np.random.normal(loc=300, scale=50)\n",
    "    \n",
    "    # Add anomalies to the data\n",
    "    if i % 30 == 0: # introduce anomalies every 30 days\n",
    "        sales = sales * 1.5\n",
    "        direct = direct * 1.2\n",
    "        retail_sales = retail_sales * 0.8\n",
    "        unknown_sales = unknown_sales * 1.5\n",
    "        applications = applications * 0.5\n",
    "        net_applications = net_applications * 0.2\n",
    "    \n",
    "    # Add the data for the current date to the data frame\n",
    "    row = [date, sales, direct, retail_sales, unknown_sales, applications, net_applications]\n",
    "    df.loc[i] = row\n",
    "\n",
    "# Save the data frame to a CSV file\n",
    "df.to_csv('credit_card_data.csv', index=False)\n"
   ]
  },
  {
   "cell_type": "code",
   "execution_count": 6,
   "id": "e5515953",
   "metadata": {},
   "outputs": [
    {
     "name": "stdout",
     "output_type": "stream",
     "text": [
      "    datetime     Sales    direct  retail sales  unknown sales  applications   \n",
      "0 2022-01-01  0.658613  0.801161      0.105829       0.570499      0.049397  \\\n",
      "1 2022-01-02  0.342444  0.359833      0.284472       0.314665      0.796042   \n",
      "2 2022-01-03  0.482440  0.354412      0.391036       0.262713      0.607675   \n",
      "3 2022-01-04  0.539262  0.477958      0.703904       0.121639      0.490272   \n",
      "4 2022-01-05  0.244572  0.344976      0.567132       0.411777      0.389030   \n",
      "\n",
      "   net applications  \n",
      "0          0.015137  \n",
      "1          0.857881  \n",
      "2          0.713657  \n",
      "3          0.696971  \n",
      "4          0.668931  \n"
     ]
    }
   ],
   "source": [
    "import pandas as pd\n",
    "from sklearn.preprocessing import MinMaxScaler\n",
    "\n",
    "# Load the credit card data set\n",
    "df = pd.read_csv('credit_card_data.csv', parse_dates=['datetime'])\n",
    "\n",
    "# Get the numeric columns (exclude datetime)\n",
    "numeric_columns = [col for col in df.columns if col != 'datetime']\n",
    "\n",
    "# Scale the numeric columns using MinMaxScaler\n",
    "scaler = MinMaxScaler()\n",
    "df[numeric_columns] = scaler.fit_transform(df[numeric_columns])\n",
    "\n",
    "# Export the scaled data to a new CSV file\n",
    "df.to_csv('scaled_credit_card_data.csv', index=False)\n",
    "\n",
    "# Print the first 5 rows of the scaled data\n",
    "print(df.head())\n"
   ]
  },
  {
   "cell_type": "code",
   "execution_count": null,
   "id": "14460a44",
   "metadata": {},
   "outputs": [],
   "source": []
  }
 ],
 "metadata": {
  "kernelspec": {
   "display_name": "Python 3 (ipykernel)",
   "language": "python",
   "name": "python3"
  },
  "language_info": {
   "codemirror_mode": {
    "name": "ipython",
    "version": 3
   },
   "file_extension": ".py",
   "mimetype": "text/x-python",
   "name": "python",
   "nbconvert_exporter": "python",
   "pygments_lexer": "ipython3",
   "version": "3.11.3"
  }
 },
 "nbformat": 4,
 "nbformat_minor": 5
}
